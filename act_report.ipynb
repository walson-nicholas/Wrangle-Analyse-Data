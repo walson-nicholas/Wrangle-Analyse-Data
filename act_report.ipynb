{
 "cells": [
  {
   "cell_type": "markdown",
   "metadata": {},
   "source": [
    "<h1><center>DATA ANALYSIS REPORT</center></h1>"
   ]
  },
  {
   "cell_type": "markdown",
   "metadata": {},
   "source": [
    "##### BY: Asimiea Nicholas Walson\n",
    "\n",
    "After cleaning and merging the three dataset into a master dataset, it was saved to a csv file named **\"twitter_archive_master.csv\"**.\n",
    "\n",
    "The following steps were taken to draw insight from the data.\n",
    "\n",
    "**Read the master dataset into a pandas dataframe named df_master**"
   ]
  },
  {
   "cell_type": "code",
   "execution_count": 14,
   "metadata": {},
   "outputs": [],
   "source": [
    "# Import libraries required for project\n",
    "import pandas as pd\n",
    "import numpy as np\n",
    "import matplotlib.pyplot as plt\n",
    "import seaborn as sns\n",
    "import os\n",
    "%matplotlib inline\n",
    "\n",
    "# Indicate the name of folder where project data is located\n",
    "folder_name = 'data'"
   ]
  },
  {
   "cell_type": "code",
   "execution_count": 15,
   "metadata": {},
   "outputs": [],
   "source": [
    "# Read master dataset into pandas dataframe\n",
    "df_master = pd.read_csv(os.path.join(folder_name, 'twitter_archive_master.csv'))"
   ]
  },
  {
   "cell_type": "code",
   "execution_count": 16,
   "metadata": {},
   "outputs": [
    {
     "data": {
      "text/html": [
       "<div>\n",
       "<style scoped>\n",
       "    .dataframe tbody tr th:only-of-type {\n",
       "        vertical-align: middle;\n",
       "    }\n",
       "\n",
       "    .dataframe tbody tr th {\n",
       "        vertical-align: top;\n",
       "    }\n",
       "\n",
       "    .dataframe thead th {\n",
       "        text-align: right;\n",
       "    }\n",
       "</style>\n",
       "<table border=\"1\" class=\"dataframe\">\n",
       "  <thead>\n",
       "    <tr style=\"text-align: right;\">\n",
       "      <th></th>\n",
       "      <th>tweet_id</th>\n",
       "      <th>rating_numerator</th>\n",
       "      <th>rating_denominator</th>\n",
       "      <th>img_num</th>\n",
       "      <th>p1_conf</th>\n",
       "      <th>p2_conf</th>\n",
       "      <th>p3_conf</th>\n",
       "      <th>retweet_count</th>\n",
       "      <th>favorite_count</th>\n",
       "    </tr>\n",
       "  </thead>\n",
       "  <tbody>\n",
       "    <tr>\n",
       "      <th>count</th>\n",
       "      <td>1.686000e+03</td>\n",
       "      <td>1686.000000</td>\n",
       "      <td>1686.000000</td>\n",
       "      <td>1686.000000</td>\n",
       "      <td>1686.000000</td>\n",
       "      <td>1686.000000</td>\n",
       "      <td>1.686000e+03</td>\n",
       "      <td>1686.000000</td>\n",
       "      <td>1686.000000</td>\n",
       "    </tr>\n",
       "    <tr>\n",
       "      <th>mean</th>\n",
       "      <td>7.392710e+17</td>\n",
       "      <td>11.473903</td>\n",
       "      <td>10.534401</td>\n",
       "      <td>1.215896</td>\n",
       "      <td>0.605150</td>\n",
       "      <td>0.137147</td>\n",
       "      <td>6.135847e-02</td>\n",
       "      <td>2817.118031</td>\n",
       "      <td>9233.109727</td>\n",
       "    </tr>\n",
       "    <tr>\n",
       "      <th>std</th>\n",
       "      <td>6.800607e+16</td>\n",
       "      <td>8.106793</td>\n",
       "      <td>6.945891</td>\n",
       "      <td>0.576191</td>\n",
       "      <td>0.266416</td>\n",
       "      <td>0.101252</td>\n",
       "      <td>5.188051e-02</td>\n",
       "      <td>4807.199770</td>\n",
       "      <td>12583.246963</td>\n",
       "    </tr>\n",
       "    <tr>\n",
       "      <th>min</th>\n",
       "      <td>6.660209e+17</td>\n",
       "      <td>0.000000</td>\n",
       "      <td>2.000000</td>\n",
       "      <td>1.000000</td>\n",
       "      <td>0.044333</td>\n",
       "      <td>0.000010</td>\n",
       "      <td>2.160900e-07</td>\n",
       "      <td>16.000000</td>\n",
       "      <td>81.000000</td>\n",
       "    </tr>\n",
       "    <tr>\n",
       "      <th>25%</th>\n",
       "      <td>6.773835e+17</td>\n",
       "      <td>10.000000</td>\n",
       "      <td>10.000000</td>\n",
       "      <td>1.000000</td>\n",
       "      <td>0.378746</td>\n",
       "      <td>0.054938</td>\n",
       "      <td>1.598680e-02</td>\n",
       "      <td>649.250000</td>\n",
       "      <td>2163.250000</td>\n",
       "    </tr>\n",
       "    <tr>\n",
       "      <th>50%</th>\n",
       "      <td>7.132943e+17</td>\n",
       "      <td>11.000000</td>\n",
       "      <td>10.000000</td>\n",
       "      <td>1.000000</td>\n",
       "      <td>0.606701</td>\n",
       "      <td>0.121432</td>\n",
       "      <td>4.995100e-02</td>\n",
       "      <td>1437.500000</td>\n",
       "      <td>4440.000000</td>\n",
       "    </tr>\n",
       "    <tr>\n",
       "      <th>75%</th>\n",
       "      <td>7.931770e+17</td>\n",
       "      <td>12.000000</td>\n",
       "      <td>10.000000</td>\n",
       "      <td>1.000000</td>\n",
       "      <td>0.851578</td>\n",
       "      <td>0.198429</td>\n",
       "      <td>9.468462e-02</td>\n",
       "      <td>3247.750000</td>\n",
       "      <td>11656.750000</td>\n",
       "    </tr>\n",
       "    <tr>\n",
       "      <th>max</th>\n",
       "      <td>8.921774e+17</td>\n",
       "      <td>165.000000</td>\n",
       "      <td>150.000000</td>\n",
       "      <td>4.000000</td>\n",
       "      <td>0.999984</td>\n",
       "      <td>0.467678</td>\n",
       "      <td>2.734190e-01</td>\n",
       "      <td>79515.000000</td>\n",
       "      <td>132810.000000</td>\n",
       "    </tr>\n",
       "  </tbody>\n",
       "</table>\n",
       "</div>"
      ],
      "text/plain": [
       "           tweet_id  rating_numerator  rating_denominator      img_num  \\\n",
       "count  1.686000e+03       1686.000000         1686.000000  1686.000000   \n",
       "mean   7.392710e+17         11.473903           10.534401     1.215896   \n",
       "std    6.800607e+16          8.106793            6.945891     0.576191   \n",
       "min    6.660209e+17          0.000000            2.000000     1.000000   \n",
       "25%    6.773835e+17         10.000000           10.000000     1.000000   \n",
       "50%    7.132943e+17         11.000000           10.000000     1.000000   \n",
       "75%    7.931770e+17         12.000000           10.000000     1.000000   \n",
       "max    8.921774e+17        165.000000          150.000000     4.000000   \n",
       "\n",
       "           p1_conf      p2_conf       p3_conf  retweet_count  favorite_count  \n",
       "count  1686.000000  1686.000000  1.686000e+03    1686.000000     1686.000000  \n",
       "mean      0.605150     0.137147  6.135847e-02    2817.118031     9233.109727  \n",
       "std       0.266416     0.101252  5.188051e-02    4807.199770    12583.246963  \n",
       "min       0.044333     0.000010  2.160900e-07      16.000000       81.000000  \n",
       "25%       0.378746     0.054938  1.598680e-02     649.250000     2163.250000  \n",
       "50%       0.606701     0.121432  4.995100e-02    1437.500000     4440.000000  \n",
       "75%       0.851578     0.198429  9.468462e-02    3247.750000    11656.750000  \n",
       "max       0.999984     0.467678  2.734190e-01   79515.000000   132810.000000  "
      ]
     },
     "execution_count": 16,
     "metadata": {},
     "output_type": "execute_result"
    }
   ],
   "source": [
    "# Show numeric information about dataset\n",
    "df_master.describe()"
   ]
  },
  {
   "cell_type": "markdown",
   "metadata": {},
   "source": [
    "Establish the source of most of the tweets in the dataframe"
   ]
  },
  {
   "cell_type": "code",
   "execution_count": 7,
   "metadata": {},
   "outputs": [
    {
     "data": {
      "text/plain": [
       "<a href=\"http://twitter.com/download/iphone\" rel=\"nofollow\">Twitter for iPhone</a>     1655\n",
       "<a href=\"http://twitter.com\" rel=\"nofollow\">Twitter Web Client</a>                       22\n",
       "<a href=\"https://about.twitter.com/products/tweetdeck\" rel=\"nofollow\">TweetDeck</a>       9\n",
       "Name: source, dtype: int64"
      ]
     },
     "execution_count": 7,
     "metadata": {},
     "output_type": "execute_result"
    }
   ],
   "source": [
    "df_master.source.value_counts()"
   ]
  },
  {
   "cell_type": "markdown",
   "metadata": {},
   "source": [
    "Establish the percentage of the highest tweet source"
   ]
  },
  {
   "cell_type": "code",
   "execution_count": 8,
   "metadata": {},
   "outputs": [
    {
     "data": {
      "text/plain": [
       "98.16132858837486"
      ]
     },
     "execution_count": 8,
     "metadata": {},
     "output_type": "execute_result"
    }
   ],
   "source": [
    "df_master.source.value_counts()[0] / len(df_master.index) * 100"
   ]
  },
  {
   "cell_type": "markdown",
   "metadata": {},
   "source": [
    "Confirm the highest occuring rating numerator"
   ]
  },
  {
   "cell_type": "code",
   "execution_count": 9,
   "metadata": {},
   "outputs": [
    {
     "data": {
      "text/plain": [
       "0    12\n",
       "dtype: int64"
      ]
     },
     "execution_count": 9,
     "metadata": {},
     "output_type": "execute_result"
    }
   ],
   "source": [
    "df_master.rating_numerator.mode()"
   ]
  },
  {
   "cell_type": "markdown",
   "metadata": {},
   "source": [
    "Confirm the highest occuring rating denominator"
   ]
  },
  {
   "cell_type": "code",
   "execution_count": 10,
   "metadata": {},
   "outputs": [
    {
     "data": {
      "text/plain": [
       "0    10\n",
       "dtype: int64"
      ]
     },
     "execution_count": 10,
     "metadata": {},
     "output_type": "execute_result"
    }
   ],
   "source": [
    "df_master.rating_denominator.mode()"
   ]
  },
  {
   "cell_type": "markdown",
   "metadata": {},
   "source": [
    "Establish the most popular dog breed from p1, p2 and p3 columns respectively"
   ]
  },
  {
   "cell_type": "code",
   "execution_count": 11,
   "metadata": {},
   "outputs": [
    {
     "data": {
      "text/plain": [
       "golden_retriever      139\n",
       "labrador_retriever     95\n",
       "pembroke               88\n",
       "chihuahua              79\n",
       "pug                    54\n",
       "                     ... \n",
       "toyshop                 1\n",
       "hay                     1\n",
       "cougar                  1\n",
       "syringe                 1\n",
       "carton                  1\n",
       "Name: p1, Length: 214, dtype: int64"
      ]
     },
     "execution_count": 11,
     "metadata": {},
     "output_type": "execute_result"
    }
   ],
   "source": [
    "df_master.p1.value_counts()"
   ]
  },
  {
   "cell_type": "code",
   "execution_count": 12,
   "metadata": {},
   "outputs": [
    {
     "data": {
      "text/plain": [
       "labrador_retriever          96\n",
       "golden_retriever            82\n",
       "cardigan                    72\n",
       "chihuahua                   43\n",
       "chesapeake_bay_retriever    40\n",
       "                            ..\n",
       "swing                        1\n",
       "japanese_spaniel             1\n",
       "cradle                       1\n",
       "bow_tie                      1\n",
       "basketball                   1\n",
       "Name: p2, Length: 229, dtype: int64"
      ]
     },
     "execution_count": 12,
     "metadata": {},
     "output_type": "execute_result"
    }
   ],
   "source": [
    "df_master.p2.value_counts()"
   ]
  },
  {
   "cell_type": "code",
   "execution_count": 13,
   "metadata": {},
   "outputs": [
    {
     "data": {
      "text/plain": [
       "labrador_retriever    76\n",
       "chihuahua             57\n",
       "golden_retriever      46\n",
       "eskimo_dog            36\n",
       "kelpie                33\n",
       "                      ..\n",
       "television             1\n",
       "bagel                  1\n",
       "buckeye                1\n",
       "tripod                 1\n",
       "tiger_cat              1\n",
       "Name: p3, Length: 234, dtype: int64"
      ]
     },
     "execution_count": 13,
     "metadata": {},
     "output_type": "execute_result"
    }
   ],
   "source": [
    "df_master.p3.value_counts()"
   ]
  },
  {
   "cell_type": "markdown",
   "metadata": {},
   "source": [
    "### Insights:\n",
    "1. 98% of the tweets were made using an iPhone \n",
    "\n",
    "2. Most frequent rating numerator is 12 and most frequent rating demonimator is 10.\n",
    "\n",
    "3. Most popular dog breeds are golden retriever followed by the labrador retriever before the chihuahua."
   ]
  },
  {
   "cell_type": "markdown",
   "metadata": {},
   "source": [
    "### Visualization\n",
    "\n",
    "**Question**: Is there a relationship between retween count and favourite count?"
   ]
  },
  {
   "cell_type": "markdown",
   "metadata": {},
   "source": [
    "![scatter](scatter.png)\n",
    "\n",
    "The plot above attempts to visualize the relationship between retweet_count and favorite_count.\n",
    "We can see there is a positive linear relationship between the two series which implies the tendency of increment in either retweet_count as favorite_count increases and vice versa. This would not always be, but most likely be the case."
   ]
  }
 ],
 "metadata": {
  "kernelspec": {
   "display_name": "Python 3",
   "language": "python",
   "name": "python3"
  },
  "language_info": {
   "codemirror_mode": {
    "name": "ipython",
    "version": 3
   },
   "file_extension": ".py",
   "mimetype": "text/x-python",
   "name": "python",
   "nbconvert_exporter": "python",
   "pygments_lexer": "ipython3",
   "version": "3.8.3"
  }
 },
 "nbformat": 4,
 "nbformat_minor": 2
}
